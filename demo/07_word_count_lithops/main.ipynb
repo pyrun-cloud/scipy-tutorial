{
 "cells": [
  {
   "cell_type": "code",
   "execution_count": null,
   "id": "33f91613",
   "metadata": {},
   "outputs": [],
   "source": [
    "import lithops\n",
    "\n",
    "bucketname = 'scipy-tutorial-txtfiles'"
   ]
  },
  {
   "cell_type": "code",
   "execution_count": null,
   "id": "98dd72b1",
   "metadata": {},
   "outputs": [],
   "source": [
    "# Map function definition\n",
    "# This is the function that will be executed in parallel over different workers\n",
    "def my_map_function(obj):\n",
    "    print(f'Bucket: {obj.bucket}')\n",
    "    print(f'Key: {obj.key}')\n",
    "    print(f'Partition num: {obj.part}')\n",
    "    counter = {}\n",
    "\n",
    "    data = obj.data_stream.read()\n",
    "\n",
    "    for line in data.splitlines():\n",
    "        for word in line.decode('utf-8').split():\n",
    "            if word not in counter:\n",
    "                counter[word] = 1\n",
    "            else:\n",
    "                counter[word] += 1\n",
    "\n",
    "    return counter"
   ]
  },
  {
   "cell_type": "code",
   "execution_count": null,
   "id": "03ad2944",
   "metadata": {},
   "outputs": [],
   "source": [
    "# Reduce function definition\n",
    "# This function collects all the map results and aggregate them in the final one\n",
    "def my_reduce_function(results):\n",
    "    final_result = {}\n",
    "    for count in results:\n",
    "        for word in count:\n",
    "            if word not in final_result:\n",
    "                final_result[word] = count[word]\n",
    "            else:\n",
    "                final_result[word] += count[word]\n",
    "\n",
    "    return final_result"
   ]
  },
  {
   "cell_type": "code",
   "execution_count": null,
   "id": "93397a27",
   "metadata": {},
   "outputs": [],
   "source": [
    "# Executor declaration and job call in a very simple way\n",
    "fexec = lithops.FunctionExecutor()\n",
    "fexec.map_reduce(my_map_function, bucketname, my_reduce_function)\n",
    "print(fexec.get_result())"
   ]
  }
 ],
 "metadata": {
  "kernelspec": {
   "display_name": "Python 3",
   "language": "python",
   "name": "python3"
  },
  "language_info": {
   "codemirror_mode": {
    "name": "ipython",
    "version": 3
   },
   "file_extension": ".py",
   "mimetype": "text/x-python",
   "name": "python",
   "nbconvert_exporter": "python",
   "pygments_lexer": "ipython3",
   "version": "3.10.12"
  }
 },
 "nbformat": 4,
 "nbformat_minor": 5
}
