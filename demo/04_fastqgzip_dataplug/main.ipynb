{
 "cells": [
  {
   "cell_type": "code",
   "execution_count": null,
   "id": "64e5f354",
   "metadata": {},
   "outputs": [],
   "source": [
    "import boto3\n",
    "\n",
    "from dataplug import CloudObject\n",
    "from dataplug.formats.genomics.fastq import FASTQGZip, partition_reads_batches\n",
    "\n",
    "session = boto3.Session()\n",
    "creds = session.get_credentials().get_frozen_credentials()\n",
    "\n",
    "s3_config = {\n",
    "        \"credentials\": {\n",
    "                \"AccessKeyId\": creds.access_key,\n",
    "                \"SecretAccessKey\": creds.secret_key,\n",
    "                \"SessionToken\": creds.token,\n",
    "        },\n",
    "        \"region_name\": \"us-east-1\"\n",
    "}"
   ]
  },
  {
   "cell_type": "code",
   "execution_count": null,
   "id": "64303790",
   "metadata": {},
   "outputs": [],
   "source": [
    "# Replace by your ID\n",
    "my_id = input()\n",
    "print(\"Your ID is\", my_id)"
   ]
  },
  {
   "cell_type": "code",
   "execution_count": null,
   "id": "112adce5",
   "metadata": {},
   "outputs": [],
   "source": [
    "fastqgz_url = \"s3://scipy-tutorial-data/SRR6052133.fastq.gz\"\n",
    "co = CloudObject.from_s3(FASTQGZip, fastqgz_url, s3_config=s3_config,\n",
    "                         metadata_bucket=f\"scipy-tutorial-meta-{str(my_id)}\")"
   ]
  },
  {
   "cell_type": "code",
   "execution_count": null,
   "id": "fe4221ba",
   "metadata": {},
   "outputs": [],
   "source": [
    "# Data must be pre-processed first ==> This only needs to be done once per dataset\n",
    "# Preprocessing will create reusable indexes to repartition\n",
    "# the data many times in many chunk sizes\n",
    "co.preprocess()\n",
    "\n",
    "# Partition the object\n",
    "# This does not move data around, it only creates data slices from the indexes\n",
    "data_slices = co.partition(partition_reads_batches, num_batches=20)\n",
    "\n",
    "for data_slice in data_slices[0:5]:\n",
    "    # Evaluate the data_slice, which will perform the\n",
    "    # actual HTTP GET requests to get the partition data\n",
    "    batch = data_slice.get()\n",
    "    for i in batch[0:5]:\n",
    "        print(i)\n",
    "    print(\"-----\")"
   ]
  }
 ],
 "metadata": {
  "kernelspec": {
   "display_name": "Python 3",
   "language": "python",
   "name": "python3"
  },
  "language_info": {
   "codemirror_mode": {
    "name": "ipython",
    "version": 3
   },
   "file_extension": ".py",
   "mimetype": "text/x-python",
   "name": "python",
   "nbconvert_exporter": "python",
   "pygments_lexer": "ipython3",
   "version": "3.10.12"
  }
 },
 "nbformat": 4,
 "nbformat_minor": 5
}
