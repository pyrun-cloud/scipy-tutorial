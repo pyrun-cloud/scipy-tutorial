{
 "cells": [
  {
   "cell_type": "code",
   "execution_count": null,
   "id": "cf20a84f",
   "metadata": {},
   "outputs": [],
   "source": [
    "import ray\n",
    "import numpy as np\n",
    "import pandas as pd\n",
    "import joblib\n",
    "import boto3\n",
    "\n",
    "from collections import Counter\n",
    "from ray.util.joblib import register_ray\n",
    "from sklearn.model_selection import RandomizedSearchCV\n",
    "from sklearn.svm import SVC\n",
    "\n",
    "from cloud_data_cockpit import DataCockpit"
   ]
  },
  {
   "cell_type": "code",
   "execution_count": null,
   "id": "68ac87a2",
   "metadata": {},
   "outputs": [],
   "source": [
    "# Ray instantiation\n",
    "ray.init()\n",
    "register_ray()"
   ]
  },
  {
   "cell_type": "code",
   "execution_count": null,
   "id": "685f88ef",
   "metadata": {},
   "outputs": [],
   "source": [
    "# Replace by your ID\n",
    "my_id = input()\n",
    "print(\"Your ID is\", my_id)"
   ]
  },
  {
   "cell_type": "code",
   "execution_count": null,
   "id": "f4711ab0",
   "metadata": {},
   "outputs": [],
   "source": [
    "# Push random FASTA file to S3\n",
    "s3 = boto3.Session().client('s3')\n",
    "s3.create_bucket(Bucket=f\"scipy-tutorial-{str(my_id)}\")\n",
    "s3.copy_object(\n",
    "    CopySource={'Bucket': \"scipy-tutorial-data\", 'Key': 'random_100mb.fasta'},\n",
    "    Bucket=f\"scipy-tutorial-{str(my_id)}\",\n",
    "    Key='random_100mb.fasta'\n",
    ")"
   ]
  },
  {
   "cell_type": "markdown",
   "id": "501a5ecf",
   "metadata": {},
   "source": [
    "## Loading and Partitioning FASTA Sequences with DataCockpit\n",
    "\n",
    "In this cell, we will initialize the data loader and prepare a FASTA file for distributed processing with Ray. You should:\n",
    "\n",
    "1. **Specify a FASTA file path**  \n",
    "   - Point to the FASTA file you want to process (e.g. `sequences.fasta`).  \n",
    "\n",
    "2. **Define the number of _chunks_**  \n",
    "   - Choose into how many partitions (_chunks_) you want to split the sequence data.  \n",
    "   - Proper chunking allows Ray to balance the workload across workers.\n",
    "\n",
    "3. **Partition the FASTA file**  \n",
    "   - Use DataCockpit to read and split the file into the defined number of _chunks_.  \n",
    "\n",
    "4. **Run the rest of the notebook with Ray**  \n",
    "   - After partitioning, Ray will manage parallel sequence processing.  \n",
    "   - Ensure your Ray cluster is initialized before executing downstream analysis.\n"
   ]
  },
  {
   "cell_type": "code",
   "execution_count": null,
   "id": "ed842081",
   "metadata": {},
   "outputs": [],
   "source": [
    "data_loader = DataCockpit()"
   ]
  },
  {
   "cell_type": "code",
   "execution_count": null,
   "id": "a5fac91f",
   "metadata": {},
   "outputs": [],
   "source": [
    "slices = data_loader.get_data_slices()"
   ]
  },
  {
   "cell_type": "code",
   "execution_count": null,
   "id": "09e3d676",
   "metadata": {},
   "outputs": [],
   "source": [
    "# Ray remote function definition\n",
    "@ray.remote\n",
    "def process_fasta_slice(slice_id, data_slice):\n",
    "    text = data_slice.get().decode(\"utf-8\")\n",
    "    lines = text.splitlines()\n",
    "    records = []\n",
    "    header = None\n",
    "    seq_parts = []\n",
    "\n",
    "    def flush():\n",
    "        nonlocal header, seq_parts\n",
    "        if header is None:\n",
    "            return\n",
    "        seq = \"\".join(seq_parts)\n",
    "        length = len(seq)\n",
    "        # Skip empty sequences\n",
    "        if length == 0:\n",
    "            return\n",
    "        # Compute GC content percentage\n",
    "        gc = (seq.count(\"G\") + seq.count(\"C\")) / length * 100\n",
    "        # Count each amino acid and get their frequency\n",
    "        aa_counts = Counter(seq)\n",
    "        aa_freq = {\n",
    "            aa: aa_counts.get(aa, 0) / length\n",
    "            for aa in \"ACDEFGHIKLMNPQRSTVWY\"\n",
    "        }\n",
    "        # Extract species from header after the first underscore\n",
    "        species = header.split(\"_\", 1)[1] if \"_\" in header else header\n",
    "        rec = {\n",
    "            \"header\": header,\n",
    "            \"species\": species,\n",
    "            \"length\": length,\n",
    "            \"gc_percent\": gc,\n",
    "            **aa_freq\n",
    "        }\n",
    "        records.append(rec)\n",
    "\n",
    "    for line in lines:\n",
    "        if line.startswith(\">\"):\n",
    "            # On new header, flush the previous record\n",
    "            flush()\n",
    "            header = line[1:].strip()\n",
    "            seq_parts = []\n",
    "        else:\n",
    "            seq_parts.append(line.strip())\n",
    "    # Flush the last sequence\n",
    "    flush()\n",
    "    return records"
   ]
  },
  {
   "cell_type": "code",
   "execution_count": null,
   "id": "9adeebf8",
   "metadata": {},
   "outputs": [],
   "source": [
    "# Call for ray parallel computation\n",
    "futures = [\n",
    "    process_fasta_slice.remote(i, sl)\n",
    "    for i, sl in enumerate(slices)\n",
    "]\n",
    "\n",
    "nested = ray.get(futures)\n",
    "flat = [rec for part in nested for rec in part]\n",
    "\n",
    "df = pd.DataFrame(flat)\n",
    "grouped = df.groupby(\"species\").mean(numeric_only=True).round(3)\n",
    "\n",
    "print(\"Average composition by species (length, gc_percent, A…Y):\")\n",
    "print(grouped)"
   ]
  },
  {
   "cell_type": "code",
   "execution_count": null,
   "id": "a7bb0b64",
   "metadata": {},
   "outputs": [],
   "source": [
    "# Finish the environment\n",
    "ray.shutdown()"
   ]
  },
  {
   "cell_type": "code",
   "execution_count": null,
   "id": "af173abc",
   "metadata": {},
   "outputs": [],
   "source": [
    "# Finding the optimal chunk size (in dev.) \n",
    "def benchmark(slices):\n",
    "    [slice.get() for slice in slices]\n",
    "\n",
    "data_loader = DataCockpit(benchmarking_fn=benchmark)"
   ]
  }
 ],
 "metadata": {
  "kernelspec": {
   "display_name": "Python 3",
   "language": "python",
   "name": "python3"
  },
  "language_info": {
   "codemirror_mode": {
    "name": "ipython",
    "version": 3
   },
   "file_extension": ".py",
   "mimetype": "text/x-python",
   "name": "python",
   "nbconvert_exporter": "python",
   "pygments_lexer": "ipython3",
   "version": "3.10.12"
  }
 },
 "nbformat": 4,
 "nbformat_minor": 5
}
