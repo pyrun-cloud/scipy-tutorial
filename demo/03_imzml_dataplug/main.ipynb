{
 "cells": [
  {
   "cell_type": "code",
   "execution_count": null,
   "id": "64e5f354",
   "metadata": {},
   "outputs": [],
   "source": [
    "import boto3\n",
    "import numpy as np\n",
    "\n",
    "from dataplug import CloudObject\n",
    "from dataplug.formats.metabolomics.imzml import ImzML, partition_chunks_strategy\n",
    "\n",
    "session = boto3.Session()\n",
    "creds = session.get_credentials().get_frozen_credentials()\n",
    "\n",
    "s3_config = {\n",
    "        \"credentials\": {\n",
    "                \"AccessKeyId\": creds.access_key,\n",
    "                \"SecretAccessKey\": creds.secret_key,\n",
    "                \"SessionToken\": creds.token,\n",
    "        },\n",
    "        \"region_name\": \"us-east-1\"\n",
    "}"
   ]
  },
  {
   "cell_type": "code",
   "execution_count": null,
   "id": "64303790",
   "metadata": {},
   "outputs": [],
   "source": [
    "# Replace by your ID\n",
    "my_id = input()\n",
    "print(\"Your ID is\", my_id)"
   ]
  },
  {
   "cell_type": "code",
   "execution_count": null,
   "id": "112adce5",
   "metadata": {},
   "outputs": [],
   "source": [
    "imzml_url = \"s3://scipy-tutorial-data/HR2MSImouseurinarybladderS096.ibd\"\n",
    "co = CloudObject.from_s3(ImzML, imzml_url, s3_config=s3_config,\n",
    "                         metadata_bucket=f\"scipy-tutorial-meta-{str(my_id)}\")"
   ]
  },
  {
   "cell_type": "code",
   "execution_count": null,
   "id": "fe4221ba",
   "metadata": {},
   "outputs": [],
   "source": [
    "# Data must be pre-processed first ==> This only needs to be done once per dataset\n",
    "# Preprocessing will create reusable indexes to repartition\n",
    "# the data many times in many chunk sizes\n",
    "co.preprocess(force=True)\n",
    "\n",
    "# Partition the object\n",
    "# This does not move data around, it only creates data slices from the indexes\n",
    "data_slices = co.partition(partition_chunks_strategy, chunk_size=256 * 1024**2)\n",
    "\n",
    "for data_slice in data_slices:\n",
    "    # Evaluate the data_slice, which will perform the\n",
    "    # actual HTTP GET requests to get the partition data\n",
    "    raw_data = data_slice.get()\n",
    "\n",
    "    # Load the data from bytes in memory\n",
    "    # 1. read the common m/z array\n",
    "    mz_length_bytes = data_slice.mz_lengths[0] * data_slice.cloud_object.attributes.mz_size\n",
    "    mz_array = np.frombuffer(raw_data[0:mz_length_bytes], dtype=data_slice.cloud_object.attributes.mz_precision)\n",
    "\n",
    "    for i in range(len(data_slice.int_offsets)):\n",
    "        spectrum_index = data_slice.spectrum_index + i\n",
    "        coordinates = data_slice.cloud_object.attributes.coordinates[spectrum_index]\n",
    "        print(f\"Spectrum index {spectrum_index}, pixel coordinates: {coordinates}\")\n",
    "\n",
    "        # 2. read intensity array\n",
    "        int_length_bytes = data_slice.int_lengths[i] * data_slice.cloud_object.attributes.int_size\n",
    "        int_array = np.frombuffer(\n",
    "            raw_data[data_slice.int_offsets[i] : data_slice.int_offsets[i] + int_length_bytes],\n",
    "            dtype=data_slice.cloud_object.attributes.int_precision,\n",
    "        )"
   ]
  }
 ],
 "metadata": {
  "kernelspec": {
   "display_name": "Python 3",
   "language": "python",
   "name": "python3"
  },
  "language_info": {
   "codemirror_mode": {
    "name": "ipython",
    "version": 3
   },
   "file_extension": ".py",
   "mimetype": "text/x-python",
   "name": "python",
   "nbconvert_exporter": "python",
   "pygments_lexer": "ipython3",
   "version": "3.10.12"
  }
 },
 "nbformat": 4,
 "nbformat_minor": 5
}
