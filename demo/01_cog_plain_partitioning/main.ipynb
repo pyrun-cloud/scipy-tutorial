{
 "cells": [
  {
   "cell_type": "code",
   "execution_count": null,
   "id": "233283aa",
   "metadata": {},
   "outputs": [],
   "source": [
    "import math\n",
    "import os\n",
    "from typing import TYPE_CHECKING, List\n",
    "\n",
    "import boto3\n",
    "import rasterio\n",
    "from rasterio.session import AWSSession\n",
    "from rasterio.windows import Window\n",
    "\n",
    "# Set environment variables for GDAL and AWS\n",
    "os.environ[\"GDAL_HTTP_UNSAFESSL\"] = \"YES\"\n",
    "os.environ[\"CPL_VSIL_CURL_USE_HEAD\"] = \"NO\"\n",
    "os.environ[\"AWS_REQUEST_PAYER\"] = \"requester\"\n",
    "\n",
    "# Create AWS session\n",
    "aws_session = AWSSession(boto3.Session(), requester_pays=True)"
   ]
  },
  {
   "cell_type": "code",
   "execution_count": null,
   "id": "b090826d",
   "metadata": {},
   "outputs": [],
   "source": [
    "# Using a sample COG file from AWS Registry of Open Data\n",
    "uri = \"s3://sentinel-cogs/sentinel-s2-l2a-cogs/1/C/CV/2023/1/S2B_1CCV_20230111_0_L2A/B02.tif\"\n",
    "\n",
    "# Define number of partitions -> n_splits ** 2\n",
    "n_splits = 2"
   ]
  },
  {
   "cell_type": "code",
   "execution_count": null,
   "id": "8f5ffd19",
   "metadata": {},
   "outputs": [],
   "source": [
    "# List with different partitions\n",
    "slices = []\n",
    "\n",
    "# Partition logic\n",
    "# Notice that programmer is responsible of program the partition logic into their code\n",
    "with rasterio.Env(aws_session=aws_session):\n",
    "    with rasterio.open(uri) as src:\n",
    "        step_w = src.width / n_splits\n",
    "        step_h = src.height / n_splits\n",
    "\n",
    "        for bx in range(n_splits):\n",
    "            for by in range(n_splits):\n",
    "                off_w = round(step_w * by)\n",
    "                off_h = round(step_h * bx)\n",
    "                w = math.ceil(step_w * (by + 1)) - off_w\n",
    "                h = math.ceil(step_h * (bx + 1)) - off_h\n",
    "\n",
    "                window = Window(off_w, off_h, w, h)\n",
    "                slices.append(window)"
   ]
  },
  {
   "cell_type": "code",
   "execution_count": null,
   "id": "5b73daf2",
   "metadata": {},
   "outputs": [],
   "source": [
    "# Slices references (not evaluated yet)\n",
    "for window in slices:\n",
    "    print(window)"
   ]
  },
  {
   "cell_type": "code",
   "execution_count": null,
   "id": "e1a01e99",
   "metadata": {},
   "outputs": [],
   "source": [
    "# Print the raw data of partitions\n",
    "for window in slices: \n",
    "    with rasterio.Env(aws_session=aws_session):\n",
    "        with rasterio.open(uri) as src:\n",
    "            data = src.read(window=window)\n",
    "        print(data)\n",
    "        print(\"---------------\")\n"
   ]
  },
  {
   "cell_type": "markdown",
   "id": "acb34557",
   "metadata": {},
   "source": [
    "```python\n",
    "# Notice that slices (that are lazy evaluated) can be passed to remote\n",
    "# workers (Dask, Ray, Lithops...)\n",
    "\n",
    "import dask.bag as db\n",
    "\n",
    "def process_window(window):\n",
    "    ...\n",
    "\n",
    "results = db.from_sequence(slices).map(process_window).compute()\n",
    "```"
   ]
  }
 ],
 "metadata": {
  "kernelspec": {
   "display_name": "Python 3",
   "language": "python",
   "name": "python3"
  },
  "language_info": {
   "codemirror_mode": {
    "name": "ipython",
    "version": 3
   },
   "file_extension": ".py",
   "mimetype": "text/x-python",
   "name": "python",
   "nbconvert_exporter": "python",
   "pygments_lexer": "ipython3",
   "version": "3.10.12"
  }
 },
 "nbformat": 4,
 "nbformat_minor": 5
}
