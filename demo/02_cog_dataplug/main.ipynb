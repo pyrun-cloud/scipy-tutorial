{
 "cells": [
  {
   "cell_type": "code",
   "execution_count": null,
   "id": "ad731ce1",
   "metadata": {},
   "outputs": [],
   "source": [
    "import boto3\n",
    "\n",
    "import rasterio\n",
    "import rasterio.transform\n",
    "from rasterio.session import AWSSession\n",
    "from rasterio.windows import Window, from_bounds\n",
    "\n",
    "from dataplug import CloudObject\n",
    "from dataplug.formats.geospatial.cog import CloudOptimizedGeoTiff, grid_partition_strategy\n",
    "\n",
    "session = boto3.Session()\n",
    "creds = session.get_credentials().get_frozen_credentials()\n",
    "\n",
    "s3_config = {\n",
    "        \"credentials\": {\n",
    "                \"AccessKeyId\": creds.access_key,\n",
    "                \"SecretAccessKey\": creds.secret_key,\n",
    "                \"SessionToken\": creds.token,\n",
    "        },\n",
    "        \"region_name\": \"us-east-1\"\n",
    "}"
   ]
  },
  {
   "cell_type": "code",
   "execution_count": null,
   "id": "ad772909",
   "metadata": {},
   "outputs": [],
   "source": [
    "# Replace by your ID\n",
    "my_id = input()\n",
    "print(\"Your ID is\", my_id)"
   ]
  },
  {
   "cell_type": "code",
   "execution_count": null,
   "id": "2b5a1f25",
   "metadata": {},
   "outputs": [],
   "source": [
    "cog_url = \"s3://sentinel-cogs/sentinel-s2-l2a-cogs/1/C/CV/2023/1/S2B_1CCV_20230111_0_L2A/B02.tif\"\n",
    "co = CloudObject.from_s3(CloudOptimizedGeoTiff, \n",
    "                         cog_url, \n",
    "                         s3_config=s3_config,\n",
    "                         metadata_bucket=f\"scipy-tutorial-meta-{str(my_id)}\")\n"
   ]
  },
  {
   "cell_type": "code",
   "execution_count": null,
   "id": "369ec384",
   "metadata": {},
   "outputs": [],
   "source": [
    "# Data must be pre-processed first ==> This only needs to be done once per dataset\n",
    "# Preprocessing will create reusable indexes to repartition\n",
    "# the data many times in many chunk sizes\n",
    "co.preprocess()\n",
    "\n",
    "# Partition the object\n",
    "# This does not move data around, it only creates data slices from the indexes\n",
    "data_slices = co.partition(grid_partition_strategy, n_splits=2)\n",
    "\n",
    "for idx, data_slice in enumerate(data_slices):\n",
    "        # Evaluate the data_slice, which will perform the\n",
    "        # actual HTTP GET requests to get the partition data\n",
    "        chunk_data = data_slice.get()\n",
    "        print(chunk_data)\n",
    "        print(\"-------------\")"
   ]
  }
 ],
 "metadata": {
  "kernelspec": {
   "display_name": "Python 3",
   "language": "python",
   "name": "python3"
  },
  "language_info": {
   "codemirror_mode": {
    "name": "ipython",
    "version": 3
   },
   "file_extension": ".py",
   "mimetype": "text/x-python",
   "name": "python",
   "nbconvert_exporter": "python",
   "pygments_lexer": "ipython3",
   "version": "3.10.12"
  }
 },
 "nbformat": 4,
 "nbformat_minor": 5
}
