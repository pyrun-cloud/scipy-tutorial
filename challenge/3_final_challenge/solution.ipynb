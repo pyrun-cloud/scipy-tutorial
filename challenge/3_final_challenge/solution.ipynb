{
 "cells": [
  {
   "cell_type": "code",
   "execution_count": null,
   "id": "7030de51",
   "metadata": {},
   "outputs": [],
   "source": [
    "import pandas\n",
    "import lithops\n",
    "import io\n",
    "import boto3\n",
    "import time\n",
    "import matplotlib.pyplot as plt\n",
    "\n",
    "from dataplug import CloudObject\n",
    "from dataplug.formats.generic.csv import CSV, partition_chunk_size, partition_num_chunks\n",
    "\n",
    "session = boto3.Session(region_name=\"us-east-1\")\n",
    "creds = session.get_credentials().get_frozen_credentials()\n",
    "\n",
    "s3_config = {\n",
    "        \"credentials\": {\n",
    "                \"AccessKeyId\": creds.access_key,\n",
    "                \"SecretAccessKey\": creds.secret_key,\n",
    "                \"SessionToken\": creds.token,\n",
    "        }\n",
    "}"
   ]
  },
  {
   "cell_type": "code",
   "execution_count": null,
   "id": "efada978",
   "metadata": {},
   "outputs": [],
   "source": [
    "my_id = input()\n",
    "print(\"Your ID is\", my_id)\n",
    "read_bucket_name = 'scipy-tutorial-data'\n",
    "write_bucket_name = 'scipy-tutorial-' + my_id"
   ]
  },
  {
   "cell_type": "code",
   "execution_count": null,
   "id": "7ad50727",
   "metadata": {},
   "outputs": [],
   "source": [
    "co = CloudObject.from_s3(CSV, f\"s3://{read_bucket_name}/yellow_tripdata_2015-01.csv\", s3_config=s3_config,\n",
    "                         metadata_bucket=write_bucket_name)\n",
    "\n",
    "\n",
    "co.preprocess()\n",
    "data_slices = co.partition(partition_chunk_size, chunk_size=25*1024*1024)  # 100MB\n",
    "\n",
    "def count_total_passengers(data_slice):\n",
    "    csv_bytes = data_slice.get().encode('utf-8')\n",
    "    df = pandas.read_csv(io.BytesIO(csv_bytes))\n",
    "    return df['passenger_count'].sum()\n",
    "\n",
    "def reduce_fn(total_passengers):\n",
    "    return sum(total_passengers)\n",
    "\n",
    "\n",
    "# Step 3: Create a Lithops executor and map the function to the data\n",
    "executor = lithops.FunctionExecutor()\n",
    "futures = executor.map_reduce(map_function=count_total_passengers, map_iterdata=data_slices, reduce_function=reduce_fn,\n",
    "                              map_runtime_memory=1769)\n",
    "result = futures.get_result()\n",
    "\n",
    "print(f\"Total passengers: {result}\")"
   ]
  },
  {
   "cell_type": "markdown",
   "id": "73b23c3e",
   "metadata": {},
   "source": [
    "#### Performance Comparison\n",
    "From here on, we test the execution of the pipeline with different numbers of workers to evaluate how scalability affects both execution time and cost. The configurations tested are:\n",
    "\n",
    "12 workers\n",
    "\n",
    "24 workers\n",
    "\n",
    "48 workers\n",
    "\n",
    "96 workers\n",
    "\n",
    "For each configuration, we measure the elapsed time required to complete the pipeline and the associated execution cost. These metrics allow us to analyze the trade-offs between speed and expense when increasing parallelism. Our goal is to identify the optimal number of workers that balances performance improvements with cost efficiency.\n"
   ]
  },
  {
   "cell_type": "code",
   "execution_count": null,
   "id": "17831bfd",
   "metadata": {},
   "outputs": [],
   "source": [
    "# Calculate metrics definitions\n",
    "def calc_cost(futures, memory):\n",
    "    stats = [i.stats for i in futures]\n",
    "    total_time = 0\n",
    "    for func in stats:\n",
    "        total_time += func[\"worker_end_tstamp\"] - func[\"worker_start_tstamp\"]\n",
    "    return (total_time / 3600) * (memory / 1024) * 0.00001667  \n",
    "\n",
    "\n",
    "def calc_time(start, end):\n",
    "    return end - start\n",
    "\n",
    "\n",
    "def calc_perf(elapsed_time, cost):\n",
    "    return (1/elapsed_time) * (1/cost)"
   ]
  },
  {
   "cell_type": "code",
   "execution_count": null,
   "id": "6c9f207d",
   "metadata": {},
   "outputs": [],
   "source": [
    "# Launch with different configurations and collect the metrics\n",
    "  \n",
    "executor = lithops.FunctionExecutor()\n",
    "\n",
    "workers_array = [12, 24, 48, 96]\n",
    "memory = 1769\n",
    "execution_metrics = {}\n",
    "\n",
    "for workers in workers_array:\n",
    "    data_slices = co.partition(partition_num_chunks, num_chunks=workers)\n",
    "    print(data_slices)\n",
    "    start = time.time()\n",
    "    futures = executor.map_reduce(map_function=count_total_passengers, map_iterdata=data_slices, reduce_function=reduce_fn,\n",
    "                                map_runtime_memory=memory)\n",
    "    end = time.time()\n",
    "\n",
    "    executor.get_result()\n",
    "\n",
    "    elapsed_time = calc_time(start, end)\n",
    "    cost = calc_cost(futures, memory)\n",
    "    perf = calc_perf(elapsed_time, cost)\n",
    "\n",
    "    execution_metrics[str(workers)] = {\n",
    "        \"elapsed_time\": elapsed_time,\n",
    "        \"cost\": cost,\n",
    "        \"performance\": perf\n",
    "    }  "
   ]
  },
  {
   "cell_type": "code",
   "execution_count": null,
   "id": "bbaa48af",
   "metadata": {},
   "outputs": [],
   "source": [
    "# Bar plot execution time\n",
    "workers = list(execution_metrics.keys())\n",
    "elapsed_times = [execution_metrics[w][\"elapsed_time\"] for w in workers]\n",
    "plt.figure(figsize=(6, 5))\n",
    "plt.bar(workers, elapsed_times)\n",
    "plt.title('Execution Time vs Number of Workers')\n",
    "plt.xlabel('Number of Workers')\n",
    "plt.ylabel('Elapsed Time (seconds)')\n",
    "plt.grid()\n",
    "plt.show()"
   ]
  },
  {
   "cell_type": "code",
   "execution_count": null,
   "id": "8bbe0e0c",
   "metadata": {},
   "outputs": [],
   "source": [
    "# Bar plot execution cost \n",
    "workers = list(execution_metrics.keys())\n",
    "costs = [execution_metrics[w][\"cost\"] for w in workers]\n",
    "plt.figure(figsize=(6, 5))\n",
    "plt.bar(workers, costs, color=\"orange\")\n",
    "plt.title('Execution Cost vs Number of Workers')\n",
    "plt.xlabel('Number of Workers')\n",
    "plt.ylabel('Execution Cost (USD)')\n",
    "plt.grid()\n",
    "plt.show()"
   ]
  },
  {
   "cell_type": "code",
   "execution_count": null,
   "id": "2b7ba2ab",
   "metadata": {},
   "outputs": [],
   "source": [
    "# Scatter plot performance (time vs cost)\n",
    "elapsed_times = [execution_metrics[w][\"elapsed_time\"] for w in workers]\n",
    "costs = [execution_metrics[w][\"cost\"] for w in workers]\n",
    "\n",
    "plt.figure(figsize=(6, 5))\n",
    "plt.scatter(elapsed_times, costs, color='green')\n",
    "\n",
    "for i, w in enumerate(workers):\n",
    "    plt.text(elapsed_times[i], costs[i], str(w) + \" wk\", fontsize=14, ha='left', va='bottom')\n",
    "\n",
    "plt.title('Performance: Cost vs Execution Time')\n",
    "plt.xlabel('Elapsed Time (seconds)')\n",
    "plt.ylabel('Execution Cost (USD)')\n",
    "plt.grid()\n",
    "plt.show()"
   ]
  },
  {
   "cell_type": "code",
   "execution_count": null,
   "id": "a1c27648",
   "metadata": {},
   "outputs": [],
   "source": [
    "# Print and find performance differences between executions \n",
    "perf_arr = [execution_metrics[w][\"performance\"] for w in workers]\n",
    "\n",
    "min_val = min(perf_arr)\n",
    "max_val = max(perf_arr)\n",
    "\n",
    "perf_arr_normalized = [(x - min_val) / (max_val - min_val) if max_val != min_val else 0 for x in perf_arr]\n",
    "\n",
    "best_index = perf_arr_normalized.index(max(perf_arr_normalized))\n",
    "best_worker = workers[best_index]\n",
    "best_perf_norm = perf_arr_normalized[best_index]\n",
    "\n",
    "print(\"Normalized perf. array\",  perf_arr_normalized)\n",
    "print(f\"Best configuration: {best_worker} workers\")"
   ]
  }
 ],
 "metadata": {
  "kernelspec": {
   "display_name": "pipeline",
   "language": "python",
   "name": "python3"
  },
  "language_info": {
   "codemirror_mode": {
    "name": "ipython",
    "version": 3
   },
   "file_extension": ".py",
   "mimetype": "text/x-python",
   "name": "python",
   "nbconvert_exporter": "python",
   "pygments_lexer": "ipython3",
   "version": "3.10.18"
  }
 },
 "nbformat": 4,
 "nbformat_minor": 5
}
