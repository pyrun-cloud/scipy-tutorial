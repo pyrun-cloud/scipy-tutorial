{
 "cells": [
  {
   "cell_type": "code",
   "execution_count": null,
   "id": "7030de51",
   "metadata": {},
   "outputs": [],
   "source": [
    "import pandas\n",
    "import lithops\n",
    "import io\n",
    "import dataplug\n",
    "import boto3\n",
    "\n",
    "from dataplug import CloudObject\n",
    "from dataplug.formats.generic.csv import CSV, partition_chunk_size\n",
    "\n",
    "session = boto3.Session(region_name=\"us-east-1\")\n",
    "creds = session.get_credentials().get_frozen_credentials()\n",
    "\n",
    "s3_config = {\n",
    "        \"credentials\": {\n",
    "                \"AccessKeyId\": creds.access_key,\n",
    "                \"SecretAccessKey\": creds.secret_key,\n",
    "                \"SessionToken\": creds.token,\n",
    "        }\n",
    "}"
   ]
  },
  {
   "cell_type": "code",
   "execution_count": null,
   "id": "efada978",
   "metadata": {},
   "outputs": [],
   "source": [
    "my_id = input()\n",
    "print(\"Your ID is\", my_id)\n",
    "read_bucket_name = 'scipy-tutorial-data'\n",
    "write_bucket_name = 'scipy-tutorial-' + my_id"
   ]
  },
  {
   "cell_type": "code",
   "execution_count": null,
   "id": "7ad50727",
   "metadata": {},
   "outputs": [],
   "source": [
    "co = CloudObject.from_s3(CSV, f\"s3://{read_bucket_name}/yellow_tripdata_2015-01.csv\", s3_config=s3_config,\n",
    "                         metadata_bucket=write_bucket_name)\n",
    "\n",
    "\n",
    "co.preprocess()\n",
    "data_slices = co.partition(partition_chunk_size, chunk_size=25*1024*1024)  # 100MB\n",
    "\n",
    "def count_total_passengers(data_slice):\n",
    "    csv_bytes = data_slice.get().encode('utf-8')\n",
    "    df = pandas.read_csv(io.BytesIO(csv_bytes))\n",
    "    return df['passenger_count'].sum()\n",
    "\n",
    "def reduce_fn(total_passengers):\n",
    "    return sum(total_passengers)\n",
    "\n",
    "\n",
    "# Step 3: Create a Lithops executor and map the function to the data\n",
    "executor = lithops.FunctionExecutor()\n",
    "futures = executor.map_reduce(map_function=count_total_passengers, map_iterdata=data_slices, reduce_function=reduce_fn)\n",
    "result = futures.get_result()\n",
    "\n",
    "print(f\"Total passengers: {result}\")\n",
    "\n",
    "# TODO: add metrics store for time, cost and performance --> get best config by brute force, make some plots"
   ]
  }
 ],
 "metadata": {
  "kernelspec": {
   "display_name": "Python 3",
   "language": "python",
   "name": "python3"
  },
  "language_info": {
   "codemirror_mode": {
    "name": "ipython",
    "version": 3
   },
   "file_extension": ".py",
   "mimetype": "text/x-python",
   "name": "python",
   "nbconvert_exporter": "python",
   "pygments_lexer": "ipython3",
   "version": "3.10.12"
  }
 },
 "nbformat": 4,
 "nbformat_minor": 5
}
