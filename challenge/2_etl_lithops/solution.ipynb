{
 "cells": [
  {
   "cell_type": "code",
   "execution_count": null,
   "id": "43995849",
   "metadata": {},
   "outputs": [],
   "source": [
    "import pandas\n",
    "import lithops\n",
    "import io\n",
    "\n",
    "my_id = input()\n",
    "print(\"Your ID is\", my_id)\n",
    "read_bucket_name = 'scipy-tutorial-data'\n",
    "write_bucket_name = 'scipy-tutorial-' + my_id"
   ]
  },
  {
   "cell_type": "code",
   "execution_count": null,
   "id": "a9ff3e39",
   "metadata": {},
   "outputs": [],
   "source": [
    "## Step 2: Define the function to drop rows with NaN values in column \"value\"\n",
    "def drop_less_1_mile(obj):\n",
    "    df = pandas.read_csv(io.BytesIO(obj.data_stream.read()))\n",
    "\n",
    "    df = df[df['trip_distance'] >= 1]\n",
    "    \n",
    "    output = io.BytesIO()\n",
    "    df.to_csv(output, index=False)\n",
    "    output.seek(0)\n",
    "    storage = lithops.storage.Storage()\n",
    "    storage.put_object(write_bucket_name, obj.key.replace(\"etl-challenge/\", \"etl-challenge-processed/\"), output)"
   ]
  },
  {
   "cell_type": "code",
   "execution_count": null,
   "id": "67d3dd0c",
   "metadata": {},
   "outputs": [],
   "source": [
    "# Step 3: Create a Lithops executor and map the function to the data\n",
    "executor = lithops.FunctionExecutor()\n",
    "fs = executor.map(drop_less_1_mile, read_bucket_name + \"/etl-challenge/\")\n",
    "executor.wait()"
   ]
  },
  {
   "cell_type": "code",
   "execution_count": null,
   "id": "3ab48057",
   "metadata": {},
   "outputs": [],
   "source": [
    "# Step 4: Show the plots\n",
    "executor.plot(fs=fs, dst=\".\")"
   ]
  }
 ],
 "metadata": {
  "kernelspec": {
   "display_name": "Python 3",
   "language": "python",
   "name": "python3"
  },
  "language_info": {
   "codemirror_mode": {
    "name": "ipython",
    "version": 3
   },
   "file_extension": ".py",
   "mimetype": "text/x-python",
   "name": "python",
   "nbconvert_exporter": "python",
   "pygments_lexer": "ipython3",
   "version": "3.10.12"
  }
 },
 "nbformat": 4,
 "nbformat_minor": 5
}
